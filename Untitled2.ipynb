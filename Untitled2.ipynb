{
 "cells": [
  {
   "cell_type": "code",
   "execution_count": null,
   "id": "0941bf5f",
   "metadata": {},
   "outputs": [],
   "source": [
    "# splitting multiple user inputs using list comprehension\n",
    "#and assigning each value to its respective variable\n",
    "x,y =[int(n) for n in input(\"Enter Two Numbers Separated By A Comma:\").split(\",\")]\n"
   ]
  },
  {
   "cell_type": "code",
   "execution_count": null,
   "id": "8add4daa",
   "metadata": {},
   "outputs": [],
   "source": [
    "x\n",
    "out :7"
   ]
  },
  {
   "cell_type": "code",
   "execution_count": null,
   "id": "ddbee627",
   "metadata": {},
   "outputs": [],
   "source": [
    "y\n",
    "out 3"
   ]
  }
 ],
 "metadata": {
  "kernelspec": {
   "display_name": "Python 3 (ipykernel)",
   "language": "python",
   "name": "python3"
  },
  "language_info": {
   "codemirror_mode": {
    "name": "ipython",
    "version": 3
   },
   "file_extension": ".py",
   "mimetype": "text/x-python",
   "name": "python",
   "nbconvert_exporter": "python",
   "pygments_lexer": "ipython3",
   "version": "3.9.12"
  }
 },
 "nbformat": 4,
 "nbformat_minor": 5
}
